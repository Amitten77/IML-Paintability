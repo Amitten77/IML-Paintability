{
 "cells": [
  {
   "cell_type": "markdown",
   "metadata": {},
   "source": [
    "# Improved Changes\n",
    "\n",
    "- Boards with a different inital chip count per column is supported\n",
    "- Model trains againsts multiple different versions of previous other models, improving its accuracy\n",
    "- Added a goal and began hardcoding more strategies for board to go for goal rather than highest score"
   ]
  },
  {
   "cell_type": "code",
   "execution_count": 304,
   "metadata": {},
   "outputs": [],
   "source": [
    "import math\n",
    "import random\n",
    "import matplotlib\n",
    "import matplotlib.pyplot as plt\n",
    "from collections import namedtuple, deque, defaultdict\n",
    "from itertools import count, permutations, product, chain\n",
    "import itertools\n",
    "import os\n",
    "import torch\n",
    "import torch.nn as nn\n",
    "import torch.optim as optim\n",
    "import torch.nn.functional as F\n",
    "import pandas as pd\n",
    "import copy\n",
    "import pickle\n",
    "import time\n",
    "import networkx as nx\n",
    "from networkx.algorithms import bipartite"
   ]
  },
  {
   "cell_type": "markdown",
   "metadata": {},
   "source": [
    "# Board Methods\n",
    "\n",
    "The board will be represented as a 3D array, where each array is a column state, and each token in the column is a 2-item list. The first item is the level the token is on (-1 if the token has been removed) and the second item is whether remover has just selected the token. Also within the list, a token always keeps its position within the column.\n",
    "\n",
    "Example(board started out with 3 columns and 2 tokens per column): \n",
    "\n",
    "<img src=\"images/ex2.png\" width=\"200\">\n",
    "\n",
    "Representation: [[[2, 0], [1, 1]], [[0, 0], [3, 1]], [[-1, 0], [-1, 0]]]\n",
    "\n",
    "score_board Method:\n",
    "\n",
    "This method scores a given board state, crucial for giving feedback to pusher and remover neural network. Right now the scoring method using an exponential model for scoring based on the number of columns times the number of tokens. That way, as an end result, Pusher is incentived to get a token as high up as possible as their main goal as opposed to many tokens at a lower level. However, for now there are drawbacks to this as this could cause pusher to think too much in the short term."
   ]
  },
  {
   "cell_type": "code",
   "execution_count": 305,
   "metadata": {},
   "outputs": [],
   "source": [
    "class Board():\n",
    "    def __init__(self, n, k, goal=10):\n",
    "        self.board = {}\n",
    "        self.selected = {}\n",
    "        self.goal = goal\n",
    "        for i in range(n):\n",
    "            self.board[i] = [[0, 0] for j in range(k)] #level, selected:\n",
    "            #-1 if removed, 0 if not selected, 1 if selected\n",
    "        self.n = n\n",
    "        self.k = k\n",
    "        self.max_score = 0\n",
    "    \n",
    "    def game_over(self):\n",
    "        if self.max_score >= self.goal:\n",
    "            return True\n",
    "        for i in range(self.n):\n",
    "            for level, sel in self.board[i]:\n",
    "                if level != -1:\n",
    "                    return False\n",
    "        return True\n",
    "    \n",
    "    def board_sum(self):\n",
    "        total = 0\n",
    "        for i in range(self.n):\n",
    "            total += sum([item[0] for item in self.board[i]])\n",
    "        return total\n",
    "            \n",
    "        \n",
    "    \n",
    "    def __str__(self): #Prints the board out in a neat fashion\n",
    "        ans = \"\"\n",
    "        for i in range(self.n):\n",
    "            ans += f\"Column {i}: {self.board[i]}\\n\"\n",
    "        return ans"
   ]
  },
  {
   "cell_type": "code",
   "execution_count": 306,
   "metadata": {},
   "outputs": [],
   "source": [
    "#1 if board1 < board2, 0 if board1 = board2, -1 if board1 > board2, 2 if incomparable\n",
    "def lessThan(board1, board2):\n",
    "    B = nx.Graph()\n",
    "    if board1.n != board2.n or board1.k != board2.k:\n",
    "        return 2\n",
    "    top_nodes = [i for i in range(board1.n)]\n",
    "    bottom_nodes = [(board1.n + i) for i in range(board1.n)]\n",
    "    B.add_nodes_from(top_nodes, bipartite=0)\n",
    "    B.add_nodes_from(bottom_nodes, bipartite=1)\n",
    "    connections_less = []\n",
    "    connections_more = []\n",
    "    for i in range(board1.n):\n",
    "        for j in range(board2.n):\n",
    "            board1_lis = [item[0] for item in board1.board[i]]\n",
    "            board2_lis = [item[0] for item in board2.board[j]]\n",
    "            lessThan = True\n",
    "            greaterThan = True\n",
    "            for item1, item2 in zip(board1_lis, board2_lis):\n",
    "                if item1 > item2:\n",
    "                    lessThan = False\n",
    "                if item1 < item2:\n",
    "                    greaterThan = False\n",
    "            if lessThan:\n",
    "                connections_less.append((i, board1.n + j))\n",
    "            if greaterThan:\n",
    "                connections_more.append((i, board1.n + j))\n",
    "    B.add_edges_from(connections_less)\n",
    "    #Obtain the maximum cardinality matching\n",
    "    my_matching_less = bipartite.matching.hopcroft_karp_matching(B, top_nodes)\n",
    "    B.remove_edges_from(connections_less)\n",
    "    B.add_edges_from(connections_more)\n",
    "    my_matching_more = bipartite.matching.hopcroft_karp_matching(B, top_nodes)\n",
    "    isLess = (len(my_matching_less) == board1.n * 2)\n",
    "    isMore = (len(my_matching_more) == board1.n * 2)\n",
    "    if isMore and isLess:\n",
    "        return 0\n",
    "    if isLess:\n",
    "        return 1\n",
    "    if isMore:\n",
    "        return -1\n",
    "    return 2"
   ]
  },
  {
   "cell_type": "markdown",
   "metadata": {},
   "source": [
    "# Pusher Methods"
   ]
  },
  {
   "cell_type": "code",
   "execution_count": 307,
   "metadata": {},
   "outputs": [],
   "source": [
    "N = 6\n",
    "K = 3\n",
    "subset_graph = {}\n",
    "num_graph = {}\n",
    "index = 0\n",
    "values = [i for i in range(N * K)]\n",
    "for i in range(len(values) + 1):\n",
    "    for subset in itertools.combinations(values, i):\n",
    "        subset_graph[index] = subset\n",
    "        num_graph[tuple(subset)] = index\n",
    "        index += 1\n",
    "#structure will be subset_graph[num] = subset\n",
    "#strucutre of num_graph will be num_graph[subset] = num\n",
    "\n",
    "#Helper method for getting pushers possible moves\n",
    "def get_subset(state, num):#Given a subset number, gets the subset\n",
    "    return subset_graph[num]\n",
    "\n",
    "\n",
    "#ACTUALLY MODIFIES THE BOARD\n",
    "def make_pusher_board(state, subset):\n",
    "    index = 0\n",
    "    for i in range(state.n):\n",
    "        for j in range(state.k):\n",
    "            if index in subset and state.board[i][j][0] != -1:\n",
    "                state.board[i][j][1] = 1\n",
    "                state.board[i][j][0] += 1\n",
    "            index += 1\n",
    "        state.board[i].sort()\n",
    "    return state\n",
    "\n",
    "\n",
    "\n",
    "def get_poss(col, offset):\n",
    "    poss = []\n",
    "    tokens = {}\n",
    "    for item in col:\n",
    "        if item[0] != -1:\n",
    "            if item[0] not in tokens:\n",
    "                tokens[item[0]] = [[]]\n",
    "            lis = copy.deepcopy(tokens[item[0]][-1])\n",
    "            lis.append(offset)\n",
    "            tokens[item[0]].append(lis)\n",
    "        offset += 1\n",
    "    all_combinations = list(product(*tokens.values()))\n",
    "    unique_combinations = set()\n",
    "    for combination in all_combinations:\n",
    "        flattened = tuple(sorted(chain.from_iterable(combination)))\n",
    "        unique_combinations.add(flattened)\n",
    "    final_combinations = [list(comb) for comb in unique_combinations]\n",
    "    final_combinations.sort(key=lambda x: (len(x), x))\n",
    "    return final_combinations\n",
    "    \n",
    "    \n",
    "def recur_get_poss(poss, match, prev_cols, depth):\n",
    "    filled_cols = 0\n",
    "    for item in prev_cols:\n",
    "        if item > 0:\n",
    "            filled_cols += 1 \n",
    "    maxlen = float('inf')\n",
    "    if depth in match:\n",
    "        for item in match[depth]:\n",
    "            maxlen = min(maxlen, prev_cols[item])\n",
    "    if depth == len(poss) - 1:\n",
    "        if filled_cols == 0:\n",
    "            return [None]\n",
    "        elif filled_cols == 1:\n",
    "            if len(poss[depth]) <= 1:\n",
    "                return [None]\n",
    "            lis = poss[depth][1:]\n",
    "            return [item for item in lis if len(item) <= maxlen]\n",
    "        elif filled_cols >= 2:\n",
    "            return [item for item in poss[depth] if len(item) <= maxlen]\n",
    "    elif depth < len(poss) - 1:\n",
    "        poss_dic = {}\n",
    "        lengths = set()\n",
    "        for item in poss[depth]:\n",
    "            if len(item) <= maxlen:\n",
    "                lengths.add(len(item))\n",
    "        for length in lengths:\n",
    "            poss_dic[length] = recur_get_poss(poss, match, prev_cols + [length], depth + 1)\n",
    "        ans = []\n",
    "        for item in poss[depth]:\n",
    "            if len(item) <= maxlen:\n",
    "                for item2 in poss_dic[len(item)]:\n",
    "                    if item2 != None:\n",
    "                        ans.append(item + item2)\n",
    "        return ans\n",
    "        \n",
    "        \n",
    "\n",
    "def is_possible_push(state):\n",
    "    #Get all matching columns\n",
    "    diff_cols = []\n",
    "    for i in range(state.n):\n",
    "        for row, _ in state.board[i]:\n",
    "            if row != -1:\n",
    "                diff_cols.append(i)\n",
    "                break\n",
    "        if len(diff_cols) == 2:\n",
    "            break\n",
    "    if len(diff_cols) == 1:\n",
    "        offset = state.k * diff_cols[0]\n",
    "        ans = []\n",
    "        for row, _ in state.board[diff_cols[0]]:\n",
    "            if row != -1:\n",
    "                ans.append(offset)\n",
    "            offset += 1\n",
    "        return [num_graph[tuple(ans)]]\n",
    "    match = {} #dictionary of dependencies (e.g.) can't add something unless something from its dependency is added\n",
    "    for i in range(state.n):\n",
    "        for j in range(i + 1, state.n):\n",
    "            if state.board[i] == state.board[j]:\n",
    "                if j not in match:\n",
    "                    match[j] = []\n",
    "                match[j].append(i)\n",
    "    poss = {}\n",
    "    for i in range(state.n):\n",
    "        poss[i] = get_poss(state.board[i], i * state.k)\n",
    "    subsets = recur_get_poss(poss, match, [], 0)\n",
    "    ans = [num_graph[tuple(subset)] for subset in subsets]\n",
    "    ans.sort()\n",
    "    return ans\n",
    "    \n",
    "def make_move_pusher(state):\n",
    "    '''\n",
    "    Makes a move given a pusher neural network. If no network given, then move is random.\n",
    "    Bound variable is used to add randomness to the process if given a network, if bound is 0 that means no randomness. \n",
    "    '''\n",
    "    poss = is_possible_push(state)\n",
    "    action = random.choice(poss)\n",
    "    subset = get_subset(state, action)\n",
    "    state = make_pusher_board(state, subset)\n",
    "    return state"
   ]
  },
  {
   "cell_type": "markdown",
   "metadata": {},
   "source": [
    "# Remover Methods"
   ]
  },
  {
   "cell_type": "code",
   "execution_count": 308,
   "metadata": {},
   "outputs": [],
   "source": [
    "def is_possible_remove(state): #Given a state, gets all the possible moves for the remover\n",
    "    poss = []\n",
    "    visited = set()\n",
    "    for i in range(state.n):\n",
    "        for label, sel in state.board[i]:\n",
    "            if sel == 1:\n",
    "                val = tuple([item for sublist in state.board[i] for item in sublist])\n",
    "                if val not in visited:\n",
    "                    visited.add(val)\n",
    "                    poss.append(i)\n",
    "            if sel == 1 and label == state.goal:\n",
    "                return [i]\n",
    "    poss = list(dict.fromkeys(poss))\n",
    "    not_include = set()\n",
    "    if len(poss) > 1:\n",
    "        temp_dic = {}\n",
    "        for item in poss:\n",
    "            temp_state = copy.deepcopy(state)\n",
    "            make_remover_board(temp_state, item)\n",
    "            temp_dic[item] = temp_state\n",
    "        for i in range(len(poss)):\n",
    "            for j in range(i + 1, len(poss)):\n",
    "                score = lessThan(temp_dic[poss[i]], temp_dic[poss[j]])\n",
    "                if score == 0 or score == -1:\n",
    "                    not_include.add(poss[i])\n",
    "                if score == 1:\n",
    "                    not_include.add(poss[j])\n",
    "    poss = [item for item in poss if item not in not_include]\n",
    "    return poss\n",
    "\n",
    "\n",
    "#METHOD THAT ACTUALLY MODIFIES STATE\n",
    "def make_remover_board(state, action):\n",
    "    for j in range(state.k):\n",
    "        if state.board[action][j][1] == 1:\n",
    "            state.board[action][j][0] = -1\n",
    "    for i in range(state.n):\n",
    "        for j in range(state.k):\n",
    "            state.board[i][j][1] = 0\n",
    "            state.max_score = max(state.max_score, state.board[i][j][0])\n",
    "        state.board[i].sort()\n",
    "    return state\n",
    "\n",
    "\n",
    "def make_move_remover(state):#uses the current remover net to make a move for the remover, otherwise it goes random\n",
    "    poss = is_possible_remove(state)\n",
    "    action = -1\n",
    "    if len(poss) == 0:\n",
    "        action = 0\n",
    "    else:\n",
    "        action = random.choice(poss)\n",
    "    state = make_remover_board(state,action)\n",
    "    return state\n",
    "    "
   ]
  },
  {
   "cell_type": "markdown",
   "metadata": {},
   "source": [
    "# Losing Positions"
   ]
  },
  {
   "cell_type": "code",
   "execution_count": 309,
   "metadata": {},
   "outputs": [],
   "source": [
    "lose = Board(n=6, k=3)\n",
    "lose.board[0] = [[-1, 0], [3, 0], [3, 0]]\n",
    "lose.board[1] = [[-1, 0], [3, 0], [3, 0]]\n",
    "lose.board[2] = [[-1, 0], [3, 0], [3, 0]]\n",
    "lose.board[3] = [[-1, 0], [3, 0], [3, 0]]\n",
    "lose.board[4] = [[-1, 0], [3, 0], [3, 0]]\n",
    "lose.board[5] = [[-1, 0], [3, 0], [3, 0]]"
   ]
  },
  {
   "cell_type": "code",
   "execution_count": 310,
   "metadata": {},
   "outputs": [],
   "source": [
    "lose1 = Board(n=6, k=3)\n",
    "lose1.board[0] = [[5, 0], [5, 0], [5, 0]]\n",
    "lose1.board[1] = [[5, 0], [5, 0], [5, 0]]\n",
    "lose1.board[2] = [[-1, 0], [-1, 0], [5, 0]]\n",
    "lose1.board[3] = [[-1, 0], [-1, 0], [5, 0]]\n",
    "lose1.board[4] = [[-1, 0], [-1, 0], [-1, 0]]\n",
    "lose1.board[5] = [[-1, 0], [-1, 0], [-1, 0]]"
   ]
  },
  {
   "cell_type": "code",
   "execution_count": 311,
   "metadata": {},
   "outputs": [],
   "source": [
    "lose2 = Board(6, 3, 9)\n",
    "lose2.board[0] = [[6, 0], [6, 0], [6, 0]]\n",
    "lose2.board[1] = [[6, 0], [6, 0], [6, 0]]\n",
    "lose2.board[2] = [[-1, 0], [-1, 0], [6, 0]]\n",
    "lose2.board[3] = [[-1, 0], [-1, 0], [-1, 0]]\n",
    "lose2.board[4] = [[-1, 0], [-1, 0], [-1, 0]]\n",
    "lose2.board[5] = [[-1, 0], [-1, 0], [-1, 0]]"
   ]
  },
  {
   "cell_type": "code",
   "execution_count": 312,
   "metadata": {},
   "outputs": [],
   "source": [
    "lose3 = Board(n=6, k=3)\n",
    "lose3.board[0] = [[-1, 0], [4, 0], [4, 0]]\n",
    "lose3.board[1] = [[-1, 0], [4, 0], [4, 0]]\n",
    "lose3.board[2] = [[-1, 0], [4, 0], [4, 0]]\n",
    "lose3.board[3] = [[-1, 0], [4, 0], [4, 0]]\n",
    "lose3.board[4] = [[-1, 0], [4, 0], [4, 0]]\n",
    "lose3.board[5] = [[-1, 0], [-1, 0], [-1, 0]]"
   ]
  },
  {
   "cell_type": "code",
   "execution_count": 313,
   "metadata": {},
   "outputs": [],
   "source": [
    "lose4 = Board(n=6, k=3)\n",
    "lose4.board[0] = [[-1, 0], [5, 0], [5, 0]]\n",
    "lose4.board[1] = [[-1, 0], [5, 0], [5, 0]]\n",
    "lose4.board[2] = [[-1, 0], [5, 0], [5, 0]]\n",
    "lose4.board[3] = [[-1, 0], [5, 0], [5, 0]]\n",
    "lose4.board[4] = [[-1, 0], [-1, 0], [-1, 0]]\n",
    "lose4.board[5] = [[-1, 0], [-1, 0], [-1, 0]]"
   ]
  },
  {
   "cell_type": "code",
   "execution_count": 314,
   "metadata": {},
   "outputs": [],
   "source": [
    "lose5 = Board(n=6, k=3)\n",
    "lose5.board[0] = [[-1, 0], [6, 0], [6, 0]]\n",
    "lose5.board[1] = [[-1, 0], [6, 0], [6, 0]]\n",
    "lose5.board[2] = [[-1, 0], [6, 0], [6, 0]]\n",
    "lose5.board[3] = [[-1, 0], [-1, 0], [-1, 0]]\n",
    "lose5.board[4] = [[-1, 0], [-1, 0], [-1, 0]]\n",
    "lose5.board[5] = [[-1, 0], [-1, 0], [-1, 0]]"
   ]
  },
  {
   "cell_type": "code",
   "execution_count": 315,
   "metadata": {},
   "outputs": [],
   "source": [
    "LOSING = [lose, lose1, lose2, lose3, lose4, lose5]"
   ]
  },
  {
   "cell_type": "markdown",
   "metadata": {},
   "source": [
    "# Winning Positions"
   ]
  },
  {
   "cell_type": "code",
   "execution_count": 316,
   "metadata": {},
   "outputs": [],
   "source": [
    "win3 = Board(6, 3, 9)\n",
    "win3.board[0] = [[6, 0], [6, 0], [6, 0]]\n",
    "win3.board[1] = [[6, 0], [6, 0], [6, 0]]\n",
    "win3.board[2] = [[-1, 0], [4, 0], [6, 0]]\n",
    "win3.board[3] = [[-1, 0], [-1, 0], [-1, 0]]\n",
    "win3.board[4] = [[-1, 0], [-1, 0], [-1, 0]]\n",
    "win3.board[5] = [[-1, 0], [-1, 0], [-1, 0]]"
   ]
  },
  {
   "cell_type": "markdown",
   "metadata": {},
   "source": [
    "# General Board Methods"
   ]
  },
  {
   "cell_type": "code",
   "execution_count": 317,
   "metadata": {},
   "outputs": [],
   "source": [
    "def sim_game(n, k, goal):#Simulates a game, printing board state along the way\n",
    "    state = Board(n, k, goal)\n",
    "    while state.game_over() == False:\n",
    "        state = make_move_pusher(state)\n",
    "        print(\"Pusher's move: \")\n",
    "        print(state)\n",
    "        state = make_move_remover(state)\n",
    "        print(\"Remover's move: \")\n",
    "        print(state)\n",
    "        print()\n",
    "    print(\"GAME OVER\")\n",
    "    print(f\"Pusher's Max Score: {state.max_score}\")\n",
    "    print(f\"Pusher's Goal: {state.goal}\")\n",
    "    if state.goal <= state.max_score:\n",
    "        print(\"Pusher Reached Their Goal\")\n",
    "        return state.max_score, 1 #1 means Pusher wins\n",
    "    else:\n",
    "        print(\"Remover Reached Their Goal\")\n",
    "        return state.max_score, -1 #-1 means Remover wins\n",
    "\n",
    "def sim_game_no_print(n, k, goal):#Simulates the game without printing the board state\n",
    "    state = Board(n, k, goal)\n",
    "    while state.game_over() == False:\n",
    "        state = make_move_pusher(state)\n",
    "        state = make_move_remover(state)\n",
    "    if state.goal <= state.max_score:\n",
    "        return state.max_score, 1 #1 means Pusher wins\n",
    "    else:\n",
    "        return state.max_score, -1 #-1 means Remover wins\n",
    "\n",
    "    \n",
    "\n",
    "def minimax(state, isPusher, alpha, beta, og):\n",
    "    if state.game_over():\n",
    "        return state.max_score\n",
    "    for lose_board in LOSING:\n",
    "        temp = lessThan(state, lose_board)\n",
    "        if temp == 1 or temp == 0:\n",
    "            return -1\n",
    "    if isPusher:\n",
    "        bestVal = float('-inf')\n",
    "        if og:\n",
    "            print(len(is_possible_push(state)))\n",
    "        for poss in is_possible_push(state):\n",
    "            subset = get_subset(state, poss)\n",
    "            nex = copy.deepcopy(state)\n",
    "            make_pusher_board(nex, subset)\n",
    "            value = minimax(nex, False, alpha, beta, False)\n",
    "            bestVal = max(bestVal, value)\n",
    "            if og:\n",
    "                print(poss, value)\n",
    "            if og and bestVal == state.goal:\n",
    "                return bestVal\n",
    "            alpha = max(alpha, bestVal)\n",
    "            if beta <= alpha:\n",
    "                break\n",
    "        return bestVal\n",
    "    else:\n",
    "        bestVal = float('inf')\n",
    "        for poss in is_possible_remove(state):\n",
    "            nex = copy.deepcopy(state)\n",
    "            make_remover_board(nex, poss)\n",
    "            value = minimax(nex, True, alpha, beta, False)\n",
    "            bestVal = min(bestVal, value)\n",
    "            beta = min(beta, bestVal)\n",
    "            if beta <= alpha:\n",
    "                break\n",
    "        return bestVal\n",
    "#Calling function for first time: minimax(0, 0, true, -inf, +inf)"
   ]
  },
  {
   "cell_type": "markdown",
   "metadata": {},
   "source": [
    "# Boards to Win From"
   ]
  },
  {
   "cell_type": "code",
   "execution_count": 318,
   "metadata": {},
   "outputs": [
    {
     "name": "stdout",
     "output_type": "stream",
     "text": [
      "33\n",
      "21 9\n"
     ]
    },
    {
     "data": {
      "text/plain": [
       "9"
      ]
     },
     "execution_count": 318,
     "metadata": {},
     "output_type": "execute_result"
    }
   ],
   "source": [
    "temp3 = Board(6, 3, 9)\n",
    "temp3.board[0] = [[6, 0], [6, 0], [6, 0]]\n",
    "temp3.board[1] = [[6, 0], [6, 0], [6, 0]]\n",
    "temp3.board[2] = [[-1, 0], [4, 0], [6, 0]]\n",
    "temp3.board[3] = [[-1, 0], [-1, 0], [-1, 0]]\n",
    "temp3.board[4] = [[-1, 0], [-1, 0], [-1, 0]]\n",
    "temp3.board[5] = [[-1, 0], [-1, 0], [-1, 0]]\n",
    "minimax(temp3, True, -float('inf'), float('inf'), True)"
   ]
  },
  {
   "cell_type": "code",
   "execution_count": 321,
   "metadata": {},
   "outputs": [
    {
     "name": "stdout",
     "output_type": "stream",
     "text": [
      "54\n"
     ]
    },
    {
     "ename": "KeyboardInterrupt",
     "evalue": "",
     "output_type": "error",
     "traceback": [
      "\u001b[0;31m---------------------------------------------------------------------------\u001b[0m",
      "\u001b[0;31mKeyboardInterrupt\u001b[0m                         Traceback (most recent call last)",
      "Input \u001b[0;32mIn [321]\u001b[0m, in \u001b[0;36m<cell line: 8>\u001b[0;34m()\u001b[0m\n\u001b[1;32m      6\u001b[0m temp3\u001b[38;5;241m.\u001b[39mboard[\u001b[38;5;241m4\u001b[39m] \u001b[38;5;241m=\u001b[39m [[\u001b[38;5;241m-\u001b[39m\u001b[38;5;241m1\u001b[39m, \u001b[38;5;241m0\u001b[39m], [\u001b[38;5;241m-\u001b[39m\u001b[38;5;241m1\u001b[39m, \u001b[38;5;241m0\u001b[39m], [\u001b[38;5;241m2\u001b[39m, \u001b[38;5;241m0\u001b[39m]]\n\u001b[1;32m      7\u001b[0m temp3\u001b[38;5;241m.\u001b[39mboard[\u001b[38;5;241m5\u001b[39m] \u001b[38;5;241m=\u001b[39m [[\u001b[38;5;241m-\u001b[39m\u001b[38;5;241m1\u001b[39m, \u001b[38;5;241m0\u001b[39m], [\u001b[38;5;241m-\u001b[39m\u001b[38;5;241m1\u001b[39m, \u001b[38;5;241m0\u001b[39m], [\u001b[38;5;241m-\u001b[39m\u001b[38;5;241m1\u001b[39m, \u001b[38;5;241m0\u001b[39m]]\n\u001b[0;32m----> 8\u001b[0m \u001b[43mminimax\u001b[49m\u001b[43m(\u001b[49m\u001b[43mtemp3\u001b[49m\u001b[43m,\u001b[49m\u001b[43m \u001b[49m\u001b[38;5;28;43;01mTrue\u001b[39;49;00m\u001b[43m,\u001b[49m\u001b[43m \u001b[49m\u001b[38;5;241;43m-\u001b[39;49m\u001b[38;5;28;43mfloat\u001b[39;49m\u001b[43m(\u001b[49m\u001b[38;5;124;43m'\u001b[39;49m\u001b[38;5;124;43minf\u001b[39;49m\u001b[38;5;124;43m'\u001b[39;49m\u001b[43m)\u001b[49m\u001b[43m,\u001b[49m\u001b[43m \u001b[49m\u001b[38;5;28;43mfloat\u001b[39;49m\u001b[43m(\u001b[49m\u001b[38;5;124;43m'\u001b[39;49m\u001b[38;5;124;43minf\u001b[39;49m\u001b[38;5;124;43m'\u001b[39;49m\u001b[43m)\u001b[49m\u001b[43m,\u001b[49m\u001b[43m \u001b[49m\u001b[38;5;28;43;01mTrue\u001b[39;49;00m\u001b[43m)\u001b[49m\n",
      "Input \u001b[0;32mIn [317]\u001b[0m, in \u001b[0;36mminimax\u001b[0;34m(state, isPusher, alpha, beta, og)\u001b[0m\n\u001b[1;32m     46\u001b[0m nex \u001b[38;5;241m=\u001b[39m copy\u001b[38;5;241m.\u001b[39mdeepcopy(state)\n\u001b[1;32m     47\u001b[0m make_pusher_board(nex, subset)\n\u001b[0;32m---> 48\u001b[0m value \u001b[38;5;241m=\u001b[39m \u001b[43mminimax\u001b[49m\u001b[43m(\u001b[49m\u001b[43mnex\u001b[49m\u001b[43m,\u001b[49m\u001b[43m \u001b[49m\u001b[38;5;28;43;01mFalse\u001b[39;49;00m\u001b[43m,\u001b[49m\u001b[43m \u001b[49m\u001b[43malpha\u001b[49m\u001b[43m,\u001b[49m\u001b[43m \u001b[49m\u001b[43mbeta\u001b[49m\u001b[43m,\u001b[49m\u001b[43m \u001b[49m\u001b[38;5;28;43;01mFalse\u001b[39;49;00m\u001b[43m)\u001b[49m\n\u001b[1;32m     49\u001b[0m bestVal \u001b[38;5;241m=\u001b[39m \u001b[38;5;28mmax\u001b[39m(bestVal, value)\n\u001b[1;32m     50\u001b[0m \u001b[38;5;28;01mif\u001b[39;00m og:\n",
      "Input \u001b[0;32mIn [317]\u001b[0m, in \u001b[0;36mminimax\u001b[0;34m(state, isPusher, alpha, beta, og)\u001b[0m\n\u001b[1;32m     61\u001b[0m nex \u001b[38;5;241m=\u001b[39m copy\u001b[38;5;241m.\u001b[39mdeepcopy(state)\n\u001b[1;32m     62\u001b[0m make_remover_board(nex, poss)\n\u001b[0;32m---> 63\u001b[0m value \u001b[38;5;241m=\u001b[39m \u001b[43mminimax\u001b[49m\u001b[43m(\u001b[49m\u001b[43mnex\u001b[49m\u001b[43m,\u001b[49m\u001b[43m \u001b[49m\u001b[38;5;28;43;01mTrue\u001b[39;49;00m\u001b[43m,\u001b[49m\u001b[43m \u001b[49m\u001b[43malpha\u001b[49m\u001b[43m,\u001b[49m\u001b[43m \u001b[49m\u001b[43mbeta\u001b[49m\u001b[43m,\u001b[49m\u001b[43m \u001b[49m\u001b[38;5;28;43;01mFalse\u001b[39;49;00m\u001b[43m)\u001b[49m\n\u001b[1;32m     64\u001b[0m bestVal \u001b[38;5;241m=\u001b[39m \u001b[38;5;28mmin\u001b[39m(bestVal, value)\n\u001b[1;32m     65\u001b[0m beta \u001b[38;5;241m=\u001b[39m \u001b[38;5;28mmin\u001b[39m(beta, bestVal)\n",
      "Input \u001b[0;32mIn [317]\u001b[0m, in \u001b[0;36mminimax\u001b[0;34m(state, isPusher, alpha, beta, og)\u001b[0m\n\u001b[1;32m     46\u001b[0m nex \u001b[38;5;241m=\u001b[39m copy\u001b[38;5;241m.\u001b[39mdeepcopy(state)\n\u001b[1;32m     47\u001b[0m make_pusher_board(nex, subset)\n\u001b[0;32m---> 48\u001b[0m value \u001b[38;5;241m=\u001b[39m \u001b[43mminimax\u001b[49m\u001b[43m(\u001b[49m\u001b[43mnex\u001b[49m\u001b[43m,\u001b[49m\u001b[43m \u001b[49m\u001b[38;5;28;43;01mFalse\u001b[39;49;00m\u001b[43m,\u001b[49m\u001b[43m \u001b[49m\u001b[43malpha\u001b[49m\u001b[43m,\u001b[49m\u001b[43m \u001b[49m\u001b[43mbeta\u001b[49m\u001b[43m,\u001b[49m\u001b[43m \u001b[49m\u001b[38;5;28;43;01mFalse\u001b[39;49;00m\u001b[43m)\u001b[49m\n\u001b[1;32m     49\u001b[0m bestVal \u001b[38;5;241m=\u001b[39m \u001b[38;5;28mmax\u001b[39m(bestVal, value)\n\u001b[1;32m     50\u001b[0m \u001b[38;5;28;01mif\u001b[39;00m og:\n",
      "Input \u001b[0;32mIn [317]\u001b[0m, in \u001b[0;36mminimax\u001b[0;34m(state, isPusher, alpha, beta, og)\u001b[0m\n\u001b[1;32m     61\u001b[0m nex \u001b[38;5;241m=\u001b[39m copy\u001b[38;5;241m.\u001b[39mdeepcopy(state)\n\u001b[1;32m     62\u001b[0m make_remover_board(nex, poss)\n\u001b[0;32m---> 63\u001b[0m value \u001b[38;5;241m=\u001b[39m \u001b[43mminimax\u001b[49m\u001b[43m(\u001b[49m\u001b[43mnex\u001b[49m\u001b[43m,\u001b[49m\u001b[43m \u001b[49m\u001b[38;5;28;43;01mTrue\u001b[39;49;00m\u001b[43m,\u001b[49m\u001b[43m \u001b[49m\u001b[43malpha\u001b[49m\u001b[43m,\u001b[49m\u001b[43m \u001b[49m\u001b[43mbeta\u001b[49m\u001b[43m,\u001b[49m\u001b[43m \u001b[49m\u001b[38;5;28;43;01mFalse\u001b[39;49;00m\u001b[43m)\u001b[49m\n\u001b[1;32m     64\u001b[0m bestVal \u001b[38;5;241m=\u001b[39m \u001b[38;5;28mmin\u001b[39m(bestVal, value)\n\u001b[1;32m     65\u001b[0m beta \u001b[38;5;241m=\u001b[39m \u001b[38;5;28mmin\u001b[39m(beta, bestVal)\n",
      "    \u001b[0;31m[... skipping similar frames: minimax at line 48 (4 times), minimax at line 63 (3 times)]\u001b[0m\n",
      "Input \u001b[0;32mIn [317]\u001b[0m, in \u001b[0;36mminimax\u001b[0;34m(state, isPusher, alpha, beta, og)\u001b[0m\n\u001b[1;32m     61\u001b[0m nex \u001b[38;5;241m=\u001b[39m copy\u001b[38;5;241m.\u001b[39mdeepcopy(state)\n\u001b[1;32m     62\u001b[0m make_remover_board(nex, poss)\n\u001b[0;32m---> 63\u001b[0m value \u001b[38;5;241m=\u001b[39m \u001b[43mminimax\u001b[49m\u001b[43m(\u001b[49m\u001b[43mnex\u001b[49m\u001b[43m,\u001b[49m\u001b[43m \u001b[49m\u001b[38;5;28;43;01mTrue\u001b[39;49;00m\u001b[43m,\u001b[49m\u001b[43m \u001b[49m\u001b[43malpha\u001b[49m\u001b[43m,\u001b[49m\u001b[43m \u001b[49m\u001b[43mbeta\u001b[49m\u001b[43m,\u001b[49m\u001b[43m \u001b[49m\u001b[38;5;28;43;01mFalse\u001b[39;49;00m\u001b[43m)\u001b[49m\n\u001b[1;32m     64\u001b[0m bestVal \u001b[38;5;241m=\u001b[39m \u001b[38;5;28mmin\u001b[39m(bestVal, value)\n\u001b[1;32m     65\u001b[0m beta \u001b[38;5;241m=\u001b[39m \u001b[38;5;28mmin\u001b[39m(beta, bestVal)\n",
      "Input \u001b[0;32mIn [317]\u001b[0m, in \u001b[0;36mminimax\u001b[0;34m(state, isPusher, alpha, beta, og)\u001b[0m\n\u001b[1;32m     46\u001b[0m nex \u001b[38;5;241m=\u001b[39m copy\u001b[38;5;241m.\u001b[39mdeepcopy(state)\n\u001b[1;32m     47\u001b[0m make_pusher_board(nex, subset)\n\u001b[0;32m---> 48\u001b[0m value \u001b[38;5;241m=\u001b[39m \u001b[43mminimax\u001b[49m\u001b[43m(\u001b[49m\u001b[43mnex\u001b[49m\u001b[43m,\u001b[49m\u001b[43m \u001b[49m\u001b[38;5;28;43;01mFalse\u001b[39;49;00m\u001b[43m,\u001b[49m\u001b[43m \u001b[49m\u001b[43malpha\u001b[49m\u001b[43m,\u001b[49m\u001b[43m \u001b[49m\u001b[43mbeta\u001b[49m\u001b[43m,\u001b[49m\u001b[43m \u001b[49m\u001b[38;5;28;43;01mFalse\u001b[39;49;00m\u001b[43m)\u001b[49m\n\u001b[1;32m     49\u001b[0m bestVal \u001b[38;5;241m=\u001b[39m \u001b[38;5;28mmax\u001b[39m(bestVal, value)\n\u001b[1;32m     50\u001b[0m \u001b[38;5;28;01mif\u001b[39;00m og:\n",
      "Input \u001b[0;32mIn [317]\u001b[0m, in \u001b[0;36mminimax\u001b[0;34m(state, isPusher, alpha, beta, og)\u001b[0m\n\u001b[1;32m     35\u001b[0m     \u001b[38;5;28;01mreturn\u001b[39;00m state\u001b[38;5;241m.\u001b[39mmax_score\n\u001b[1;32m     36\u001b[0m \u001b[38;5;28;01mfor\u001b[39;00m lose_board \u001b[38;5;129;01min\u001b[39;00m LOSING:\n\u001b[0;32m---> 37\u001b[0m     temp \u001b[38;5;241m=\u001b[39m \u001b[43mlessThan\u001b[49m\u001b[43m(\u001b[49m\u001b[43mstate\u001b[49m\u001b[43m,\u001b[49m\u001b[43m \u001b[49m\u001b[43mlose_board\u001b[49m\u001b[43m)\u001b[49m\n\u001b[1;32m     38\u001b[0m     \u001b[38;5;28;01mif\u001b[39;00m temp \u001b[38;5;241m==\u001b[39m \u001b[38;5;241m1\u001b[39m \u001b[38;5;129;01mor\u001b[39;00m temp \u001b[38;5;241m==\u001b[39m \u001b[38;5;241m0\u001b[39m:\n\u001b[1;32m     39\u001b[0m         \u001b[38;5;28;01mreturn\u001b[39;00m \u001b[38;5;241m-\u001b[39m\u001b[38;5;241m1\u001b[39m\n",
      "Input \u001b[0;32mIn [306]\u001b[0m, in \u001b[0;36mlessThan\u001b[0;34m(board1, board2)\u001b[0m\n\u001b[1;32m     16\u001b[0m lessThan \u001b[38;5;241m=\u001b[39m \u001b[38;5;28;01mTrue\u001b[39;00m\n\u001b[1;32m     17\u001b[0m greaterThan \u001b[38;5;241m=\u001b[39m \u001b[38;5;28;01mTrue\u001b[39;00m\n\u001b[0;32m---> 18\u001b[0m \u001b[38;5;28;01mfor\u001b[39;00m item1, item2 \u001b[38;5;129;01min\u001b[39;00m \u001b[38;5;28mzip\u001b[39m(board1_lis, board2_lis):\n\u001b[1;32m     19\u001b[0m     \u001b[38;5;28;01mif\u001b[39;00m item1 \u001b[38;5;241m>\u001b[39m item2:\n\u001b[1;32m     20\u001b[0m         lessThan \u001b[38;5;241m=\u001b[39m \u001b[38;5;28;01mFalse\u001b[39;00m\n",
      "\u001b[0;31mKeyboardInterrupt\u001b[0m: "
     ]
    }
   ],
   "source": [
    "temp3 = Board(6, 3, 9)\n",
    "temp3.board[0] = [[6, 0], [6, 0], [6, 0]]\n",
    "temp3.board[1] = [[6, 0], [6, 0], [6, 0]]\n",
    "temp3.board[2] = [[-1, 0], [-1, 0], [3, 0]]\n",
    "temp3.board[3] = [[-1, 0], [-1, 0], [2, 0]]\n",
    "temp3.board[4] = [[-1, 0], [-1, 0], [2, 0]]\n",
    "temp3.board[5] = [[-1, 0], [-1, 0], [-1, 0]]\n",
    "minimax(temp3, True, -float('inf'), float('inf'), True)"
   ]
  },
  {
   "cell_type": "code",
   "execution_count": null,
   "metadata": {},
   "outputs": [],
   "source": []
  },
  {
   "cell_type": "code",
   "execution_count": null,
   "metadata": {},
   "outputs": [],
   "source": []
  },
  {
   "cell_type": "code",
   "execution_count": null,
   "metadata": {},
   "outputs": [],
   "source": []
  },
  {
   "cell_type": "code",
   "execution_count": null,
   "metadata": {},
   "outputs": [],
   "source": []
  },
  {
   "cell_type": "code",
   "execution_count": null,
   "metadata": {},
   "outputs": [],
   "source": []
  },
  {
   "cell_type": "code",
   "execution_count": null,
   "metadata": {},
   "outputs": [],
   "source": []
  },
  {
   "cell_type": "code",
   "execution_count": null,
   "metadata": {},
   "outputs": [],
   "source": []
  },
  {
   "cell_type": "code",
   "execution_count": null,
   "metadata": {},
   "outputs": [],
   "source": []
  },
  {
   "cell_type": "code",
   "execution_count": null,
   "metadata": {},
   "outputs": [],
   "source": []
  },
  {
   "cell_type": "code",
   "execution_count": null,
   "metadata": {},
   "outputs": [],
   "source": []
  },
  {
   "cell_type": "code",
   "execution_count": null,
   "metadata": {},
   "outputs": [],
   "source": []
  },
  {
   "cell_type": "code",
   "execution_count": null,
   "metadata": {},
   "outputs": [],
   "source": []
  },
  {
   "cell_type": "code",
   "execution_count": 41,
   "metadata": {},
   "outputs": [],
   "source": []
  },
  {
   "cell_type": "code",
   "execution_count": null,
   "metadata": {},
   "outputs": [],
   "source": []
  },
  {
   "cell_type": "code",
   "execution_count": null,
   "metadata": {},
   "outputs": [],
   "source": []
  },
  {
   "cell_type": "code",
   "execution_count": null,
   "metadata": {},
   "outputs": [],
   "source": []
  },
  {
   "cell_type": "code",
   "execution_count": null,
   "metadata": {},
   "outputs": [],
   "source": [
    "\n",
    "\n"
   ]
  },
  {
   "cell_type": "code",
   "execution_count": null,
   "metadata": {},
   "outputs": [],
   "source": []
  },
  {
   "cell_type": "code",
   "execution_count": null,
   "metadata": {},
   "outputs": [],
   "source": []
  },
  {
   "cell_type": "code",
   "execution_count": null,
   "metadata": {},
   "outputs": [],
   "source": []
  },
  {
   "cell_type": "code",
   "execution_count": null,
   "metadata": {},
   "outputs": [],
   "source": []
  },
  {
   "cell_type": "code",
   "execution_count": null,
   "metadata": {},
   "outputs": [],
   "source": []
  }
 ],
 "metadata": {
  "kernelspec": {
   "display_name": "Python 3 (ipykernel)",
   "language": "python",
   "name": "python3"
  },
  "language_info": {
   "codemirror_mode": {
    "name": "ipython",
    "version": 3
   },
   "file_extension": ".py",
   "mimetype": "text/x-python",
   "name": "python",
   "nbconvert_exporter": "python",
   "pygments_lexer": "ipython3",
   "version": "3.9.12"
  }
 },
 "nbformat": 4,
 "nbformat_minor": 4
}
